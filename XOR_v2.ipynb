{
  "nbformat": 4,
  "nbformat_minor": 0,
  "metadata": {
    "colab": {
      "name": "XOR_v2.ipynb",
      "provenance": [],
      "collapsed_sections": []
    },
    "kernelspec": {
      "name": "python3",
      "display_name": "Python 3"
    },
    "language_info": {
      "name": "python"
    }
  },
  "cells": [
    {
      "cell_type": "code",
      "metadata": {
        "id": "l0UCxF3zSfZu"
      },
      "source": [
        "#Importación de la librerías numpy (para el manejo de arrays) y keras (para realizar la red neuronal).\n",
        "import numpy as np\n",
        "from keras.models import Sequential\n",
        "from keras.layers.core import Dense"
      ],
      "execution_count": null,
      "outputs": []
    },
    {
      "cell_type": "code",
      "metadata": {
        "id": "9Hbn71AVS5FC"
      },
      "source": [
        "#Creación de los arrays de entrada y salida\n",
        "#X contiene las 4 posibles entradas de las compuertas XOR\n",
        "X = np.array([[0,0],[0,1],[1,0],[1,1]], \"float32\")\n",
        " \n",
        "#Y contiene las salidas\n",
        "Y = np.array([[0],[1],[1],[0]], \"float32\")"
      ],
      "execution_count": null,
      "outputs": []
    },
    {
      "cell_type": "code",
      "metadata": {
        "id": "LhSn5PR7S-GJ"
      },
      "source": [
        "#Creación del modelo secuencial y agregación de capas dense mediante la función model.add().\n",
        "model = Sequential()\n",
        "model.add(Dense(64, input_dim=2, activation='relu'))\n",
        "model.add(Dense(1, activation='sigmoid'))"
      ],
      "execution_count": null,
      "outputs": []
    },
    {
      "cell_type": "code",
      "metadata": {
        "colab": {
          "base_uri": "https://localhost:8080/"
        },
        "id": "nBtgyc70hkhu",
        "outputId": "127da152-9d7b-4de5-fa89-2f54a58eaf7c"
      },
      "source": [
        "#Visualización del número de parametros y el resumen de como se encuentra configurada la red neuronal.\n",
        "model.summary()"
      ],
      "execution_count": null,
      "outputs": [
        {
          "output_type": "stream",
          "text": [
            "Model: \"sequential\"\n",
            "_________________________________________________________________\n",
            "Layer (type)                 Output Shape              Param #   \n",
            "=================================================================\n",
            "dense (Dense)                (None, 64)                192       \n",
            "_________________________________________________________________\n",
            "dense_1 (Dense)              (None, 1)                 65        \n",
            "=================================================================\n",
            "Total params: 257\n",
            "Trainable params: 257\n",
            "Non-trainable params: 0\n",
            "_________________________________________________________________\n"
          ],
          "name": "stdout"
        }
      ]
    },
    {
      "cell_type": "code",
      "metadata": {
        "id": "vUNStthzTBPh"
      },
      "source": [
        "#Configuración de la red neuronal (loss, optimizer y metrics).\n",
        "model.compile(loss='mean_squared_error',\n",
        "              optimizer='adam',\n",
        "\n",
        "              metrics=['binary_accuracy'])"
      ],
      "execution_count": null,
      "outputs": []
    },
    {
      "cell_type": "code",
      "metadata": {
        "colab": {
          "base_uri": "https://localhost:8080/"
        },
        "id": "l5OLJ8a2TE0Z",
        "outputId": "b1b19a8e-d89b-48fc-eaa2-ede9585a7a2e"
      },
      "source": [
        "#Entranamiento de la red neuronal\n",
        "model.fit(X, Y, epochs=1000, verbose=False)\n",
        "print('Modelo entrenado')"
      ],
      "execution_count": null,
      "outputs": [
        {
          "output_type": "stream",
          "text": [
            "Modelo entrenado\n"
          ],
          "name": "stdout"
        }
      ]
    },
    {
      "cell_type": "code",
      "metadata": {
        "colab": {
          "base_uri": "https://localhost:8080/"
        },
        "id": "jfke-uKATGVD",
        "outputId": "13a8808a-44f1-45bf-f74e-52941446b158"
      },
      "source": [
        "#Evaluación de la exactitud del modelo\n",
        "test_loss, test_acc = model.evaluate(X, Y)\n",
        "print('Test accuracy', test_acc)"
      ],
      "execution_count": null,
      "outputs": [
        {
          "output_type": "stream",
          "text": [
            "1/1 [==============================] - 0s 19ms/step - loss: 0.0028 - binary_accuracy: 1.0000\n",
            "Test accuracy 1.0\n"
          ],
          "name": "stdout"
        }
      ]
    },
    {
      "cell_type": "code",
      "metadata": {
        "id": "UcKDc6IHTtGR",
        "colab": {
          "base_uri": "https://localhost:8080/"
        },
        "outputId": "4ef90cfa-c138-4f23-e142-c7b6a5ae5048"
      },
      "source": [
        "#Visualización de la salida aprendida (mediante model.predict()) y la salida recordada (mediante el array Y).\n",
        "print ('Salida aprendida: ', model.predict(X))\n",
        "\n",
        "print ('\\nSalida aprendida promediada: ', model.predict(X).round())\n",
        "\n",
        "print ('\\nSalida recordada: ', Y)"
      ],
      "execution_count": null,
      "outputs": [
        {
          "output_type": "stream",
          "text": [
            "Salida aprendida:  [[0.06406039]\n",
            " [0.95168436]\n",
            " [0.95160127]\n",
            " [0.04815868]]\n",
            "\n",
            "Salida aprendida promediada:  [[0.]\n",
            " [1.]\n",
            " [1.]\n",
            " [0.]]\n",
            "\n",
            "Salida recordada:  [[0]\n",
            " [1]\n",
            " [1]\n",
            " [0]]\n"
          ],
          "name": "stdout"
        }
      ]
    }
  ]
}